{
 "cells": [
  {
   "cell_type": "markdown",
   "metadata": {},
   "source": [
    "## Support Vector Machine From Scratch"
   ]
  },
  {
   "cell_type": "markdown",
   "metadata": {},
   "source": [
    "<img src=\"assets/finding_w.png\">\n",
    "<img src=\"assets/system.png\">\n",
    "<img src=\"assets/distance.png\">\n",
    "<img src=\"assets/lagrangien.png\">"
   ]
  },
  {
   "cell_type": "markdown",
   "metadata": {},
   "source": [
    "### Reading Datasets"
   ]
  },
  {
   "cell_type": "code",
   "execution_count": 1,
   "metadata": {},
   "outputs": [
    {
     "data": {
      "text/html": [
       "<div>\n",
       "<style scoped>\n",
       "    .dataframe tbody tr th:only-of-type {\n",
       "        vertical-align: middle;\n",
       "    }\n",
       "\n",
       "    .dataframe tbody tr th {\n",
       "        vertical-align: top;\n",
       "    }\n",
       "\n",
       "    .dataframe thead th {\n",
       "        text-align: right;\n",
       "    }\n",
       "</style>\n",
       "<table border=\"1\" class=\"dataframe\">\n",
       "  <thead>\n",
       "    <tr style=\"text-align: right;\">\n",
       "      <th></th>\n",
       "      <th>B</th>\n",
       "      <th>C</th>\n",
       "      <th>D</th>\n",
       "      <th>E</th>\n",
       "      <th>F</th>\n",
       "      <th>Occ</th>\n",
       "    </tr>\n",
       "  </thead>\n",
       "  <tbody>\n",
       "    <tr>\n",
       "      <th>1</th>\n",
       "      <td>23.18</td>\n",
       "      <td>27.2720</td>\n",
       "      <td>426.0</td>\n",
       "      <td>721.25</td>\n",
       "      <td>0.004793</td>\n",
       "      <td>1</td>\n",
       "    </tr>\n",
       "    <tr>\n",
       "      <th>2</th>\n",
       "      <td>23.15</td>\n",
       "      <td>27.2675</td>\n",
       "      <td>429.5</td>\n",
       "      <td>714.00</td>\n",
       "      <td>0.004783</td>\n",
       "      <td>1</td>\n",
       "    </tr>\n",
       "    <tr>\n",
       "      <th>3</th>\n",
       "      <td>23.15</td>\n",
       "      <td>27.2450</td>\n",
       "      <td>426.0</td>\n",
       "      <td>713.50</td>\n",
       "      <td>0.004779</td>\n",
       "      <td>1</td>\n",
       "    </tr>\n",
       "    <tr>\n",
       "      <th>4</th>\n",
       "      <td>23.15</td>\n",
       "      <td>27.2000</td>\n",
       "      <td>426.0</td>\n",
       "      <td>708.25</td>\n",
       "      <td>0.004772</td>\n",
       "      <td>1</td>\n",
       "    </tr>\n",
       "    <tr>\n",
       "      <th>5</th>\n",
       "      <td>23.10</td>\n",
       "      <td>27.2000</td>\n",
       "      <td>426.0</td>\n",
       "      <td>704.50</td>\n",
       "      <td>0.004757</td>\n",
       "      <td>1</td>\n",
       "    </tr>\n",
       "  </tbody>\n",
       "</table>\n",
       "</div>"
      ],
      "text/plain": [
       "       B        C      D       E         F  Occ\n",
       "1  23.18  27.2720  426.0  721.25  0.004793    1\n",
       "2  23.15  27.2675  429.5  714.00  0.004783    1\n",
       "3  23.15  27.2450  426.0  713.50  0.004779    1\n",
       "4  23.15  27.2000  426.0  708.25  0.004772    1\n",
       "5  23.10  27.2000  426.0  704.50  0.004757    1"
      ]
     },
     "execution_count": 1,
     "metadata": {},
     "output_type": "execute_result"
    }
   ],
   "source": [
    "import numpy as np\n",
    "import pandas as pd\n",
    "\n",
    "df = pd.read_table('../dataset/occupancy/datatraining.txt', skiprows=1, delimiter=',', names=('A', 'B', 'C', 'D', 'E', 'F', 'Occ'))\n",
    "test = pd.read_table('../dataset/occupancy/datatest.txt', skiprows=1, delimiter=',', names=('A', 'B', 'C', 'D', 'E', 'F', 'Occ'))\n",
    "\n",
    "test = test[['B', 'C', 'D', 'E', 'F', 'Occ']]\n",
    "df = df[['B', 'C', 'D', 'E', 'F', 'Occ']]\n",
    "df.head()"
   ]
  },
  {
   "cell_type": "code",
   "execution_count": 2,
   "metadata": {},
   "outputs": [],
   "source": [
    "train_cols = ['B', 'C', 'D', 'E', 'F']\n",
    "df['Occ'][df['Occ'] == 0] = -1"
   ]
  },
  {
   "cell_type": "markdown",
   "metadata": {},
   "source": [
    "### Finds closest data of the given class"
   ]
  },
  {
   "cell_type": "code",
   "execution_count": 3,
   "metadata": {},
   "outputs": [],
   "source": [
    "def norm(w):\n",
    "    return np.sum(w**2)**0.5\n",
    "\n",
    "def distance(w, row, b):\n",
    "    return abs(w.T.dot(row.T) + b)/norm(w)\n",
    "    \n",
    "def closest_point(w, b, cls):\n",
    "    dis = float('+inf')\n",
    "    df_cls = df[df['Occ']==cls][train_cols]\n",
    "    for i in range(len(df_cls)):\n",
    "        if float(distance(w, np.array(df_cls[i:i+1])[0, :], b)) < dis:\n",
    "            dis = float(distance(w, np.array(df_cls[i:i+1])[0, :], b))\n",
    "            min_dis = df_cls[i:i+1]\n",
    "    return min_dis"
   ]
  },
  {
   "cell_type": "markdown",
   "metadata": {},
   "source": [
    "### Creates random weights"
   ]
  },
  {
   "cell_type": "code",
   "execution_count": 4,
   "metadata": {},
   "outputs": [],
   "source": [
    "def random_wt():\n",
    "    w = []\n",
    "    for i in train_cols:\n",
    "        w.append(np.random.choice(np.array(df[i])))\n",
    "    print(w)\n",
    "    return w"
   ]
  },
  {
   "cell_type": "markdown",
   "metadata": {},
   "source": [
    "### Training SVM"
   ]
  },
  {
   "cell_type": "code",
   "execution_count": 5,
   "metadata": {},
   "outputs": [],
   "source": [
    "def svm(lr, b, epochs):\n",
    "    w = pd.DataFrame(random_wt())\n",
    "    lamb = 1e-2\n",
    "    for i in range(epochs):\n",
    "        # learning rate\n",
    "        l = lr - (i*lr)/10\n",
    "        \n",
    "        for j in range(len(df)):\n",
    "            row = np.array(df[j:j+1])\n",
    "            if (float((w.T.dot(row[0, :-1].T)+b)*row[0, -1]))<1:\n",
    "                t = np.array(-lamb*lr*row[0, -1]*row[0, :-1]).reshape((5,1))\n",
    "                w = np.subtract(w, t)\n",
    "        \n",
    "        closest_one = closest_point(w, b, 1)\n",
    "        closest_minus_one = closest_point(w, b, -1)\n",
    "        b = -1*(w.T.dot(np.array(closest_one)[0, :]) + w.T.dot(np.array(closest_minus_one)[0, :]))*0.5\n",
    "\n",
    "    print(w)\n",
    "    return b, w"
   ]
  },
  {
   "cell_type": "code",
   "execution_count": 6,
   "metadata": {},
   "outputs": [
    {
     "name": "stdout",
     "output_type": "stream",
     "text": [
      "[21.2, 23.025, 405.0, 485.5, 0.00310618168450477]\n",
      "            0\n",
      "0    1.015130\n",
      "1   -0.989516\n",
      "2  313.072750\n",
      "3  -26.638850\n",
      "4   -0.000792\n",
      "0   -107110.720013\n",
      "dtype: float64\n"
     ]
    }
   ],
   "source": [
    "lr = 0.3\n",
    "# taking random intercept\n",
    "b = np.random.rand()\n",
    "epochs = 10\n",
    "\n",
    "# training SVM\n",
    "b, w = svm(lr, b, epochs)\n",
    "\n",
    "# Intercept after training\n",
    "print(b)"
   ]
  },
  {
   "cell_type": "markdown",
   "metadata": {},
   "source": [
    "### Testing with test set"
   ]
  },
  {
   "cell_type": "code",
   "execution_count": 7,
   "metadata": {},
   "outputs": [],
   "source": [
    "def svm_test(w, b):\n",
    "    predictions = list()\n",
    "    for i in range(len(test)):\n",
    "        row = np.array(test[i:i+1])[0,:-1]\n",
    "        cls = int(np.sign(np.dot(w.T,row.T)+b))\n",
    "        predictions.append(cls)\n",
    "    return predictions"
   ]
  },
  {
   "cell_type": "code",
   "execution_count": 8,
   "metadata": {},
   "outputs": [],
   "source": [
    "pred = svm_test(w, b)"
   ]
  },
  {
   "cell_type": "markdown",
   "metadata": {},
   "source": [
    "### Calculating Accuracy"
   ]
  },
  {
   "cell_type": "code",
   "execution_count": 9,
   "metadata": {},
   "outputs": [
    {
     "name": "stdout",
     "output_type": "stream",
     "text": [
      "183 435 23 20\n",
      "accuracy : 0.9349470499243571\n",
      "precision : 0.8883495145631068\n",
      "specificity : 0.9014778325123153\n",
      "sensitivity : 0.9497816593886463\n"
     ]
    }
   ],
   "source": [
    "y_out = np.array(pred)\n",
    "y_out[y_out==-1] = 0\n",
    "gr_val = np.array(test['Occ'])\n",
    "\n",
    "tp_bool = np.logical_and((y_out==1),(gr_val==1))\n",
    "tn_bool = np.logical_and((y_out==0),(gr_val==0))\n",
    "fp_bool = np.logical_and((y_out==1),(gr_val==0))\n",
    "fn_bool = np.logical_and((y_out==0),(gr_val==1))\n",
    "tp = len(y_out[tp_bool])\n",
    "tn = len(y_out[tn_bool])\n",
    "fp = len(y_out[fp_bool])\n",
    "fn = len(y_out[fn_bool])\n",
    "print(tp,tn,fp,fn)\n",
    "\n",
    "accuracy = (tp+tn)/(tp+tn+fp+fn)\n",
    "print(\"accuracy : \"+str(accuracy))\n",
    "\n",
    "# precision = tp/(total yes predictions)\n",
    "precision = tp/(len(y_out[y_out==1]))\n",
    "print(\"precision : \"+str(precision))\n",
    "\n",
    "specificity = tp/(tp+fn)\n",
    "print(\"specificity : \"+str(specificity))\n",
    "\n",
    "sensitivity = tn/(tn+fp)\n",
    "print(\"sensitivity : \"+str(sensitivity))"
   ]
  }
 ],
 "metadata": {
  "kernelspec": {
   "display_name": "Python 3",
   "language": "python",
   "name": "python3"
  },
  "language_info": {
   "codemirror_mode": {
    "name": "ipython",
    "version": 3
   },
   "file_extension": ".py",
   "mimetype": "text/x-python",
   "name": "python",
   "nbconvert_exporter": "python",
   "pygments_lexer": "ipython3",
   "version": "3.7.1"
  }
 },
 "nbformat": 4,
 "nbformat_minor": 2
}
