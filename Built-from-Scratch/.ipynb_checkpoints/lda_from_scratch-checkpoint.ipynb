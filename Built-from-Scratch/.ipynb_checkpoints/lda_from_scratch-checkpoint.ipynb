{
 "cells": [
  {
   "cell_type": "markdown",
   "metadata": {},
   "source": [
    "## Linear Discriminant Analysis(LDA) From Scratch"
   ]
  },
  {
   "cell_type": "markdown",
   "metadata": {},
   "source": [
    "### Reading Data"
   ]
  },
  {
   "cell_type": "code",
   "execution_count": 1,
   "metadata": {},
   "outputs": [
    {
     "name": "stderr",
     "output_type": "stream",
     "text": [
      "/usr/local/lib/python3.6/dist-packages/ipykernel_launcher.py:7: FutureWarning: read_table is deprecated, use read_csv instead.\n",
      "  import sys\n",
      "/usr/local/lib/python3.6/dist-packages/ipykernel_launcher.py:8: FutureWarning: read_table is deprecated, use read_csv instead.\n",
      "  \n"
     ]
    },
    {
     "data": {
      "text/html": [
       "<div>\n",
       "<style scoped>\n",
       "    .dataframe tbody tr th:only-of-type {\n",
       "        vertical-align: middle;\n",
       "    }\n",
       "\n",
       "    .dataframe tbody tr th {\n",
       "        vertical-align: top;\n",
       "    }\n",
       "\n",
       "    .dataframe thead th {\n",
       "        text-align: right;\n",
       "    }\n",
       "</style>\n",
       "<table border=\"1\" class=\"dataframe\">\n",
       "  <thead>\n",
       "    <tr style=\"text-align: right;\">\n",
       "      <th></th>\n",
       "      <th>B</th>\n",
       "      <th>C</th>\n",
       "      <th>D</th>\n",
       "      <th>E</th>\n",
       "      <th>F</th>\n",
       "      <th>Occ</th>\n",
       "    </tr>\n",
       "  </thead>\n",
       "  <tbody>\n",
       "    <tr>\n",
       "      <th>1</th>\n",
       "      <td>23.180</td>\n",
       "      <td>27.2720</td>\n",
       "      <td>426.0</td>\n",
       "      <td>721.250000</td>\n",
       "      <td>0.004793</td>\n",
       "      <td>1</td>\n",
       "    </tr>\n",
       "    <tr>\n",
       "      <th>2</th>\n",
       "      <td>23.150</td>\n",
       "      <td>27.2675</td>\n",
       "      <td>429.5</td>\n",
       "      <td>714.000000</td>\n",
       "      <td>0.004783</td>\n",
       "      <td>1</td>\n",
       "    </tr>\n",
       "    <tr>\n",
       "      <th>3</th>\n",
       "      <td>23.150</td>\n",
       "      <td>27.2450</td>\n",
       "      <td>426.0</td>\n",
       "      <td>713.500000</td>\n",
       "      <td>0.004779</td>\n",
       "      <td>1</td>\n",
       "    </tr>\n",
       "    <tr>\n",
       "      <th>4</th>\n",
       "      <td>23.150</td>\n",
       "      <td>27.2000</td>\n",
       "      <td>426.0</td>\n",
       "      <td>708.250000</td>\n",
       "      <td>0.004772</td>\n",
       "      <td>1</td>\n",
       "    </tr>\n",
       "    <tr>\n",
       "      <th>5</th>\n",
       "      <td>23.100</td>\n",
       "      <td>27.2000</td>\n",
       "      <td>426.0</td>\n",
       "      <td>704.500000</td>\n",
       "      <td>0.004757</td>\n",
       "      <td>1</td>\n",
       "    </tr>\n",
       "    <tr>\n",
       "      <th>6</th>\n",
       "      <td>23.100</td>\n",
       "      <td>27.2000</td>\n",
       "      <td>419.0</td>\n",
       "      <td>701.000000</td>\n",
       "      <td>0.004757</td>\n",
       "      <td>1</td>\n",
       "    </tr>\n",
       "    <tr>\n",
       "      <th>7</th>\n",
       "      <td>23.100</td>\n",
       "      <td>27.2000</td>\n",
       "      <td>419.0</td>\n",
       "      <td>701.666667</td>\n",
       "      <td>0.004757</td>\n",
       "      <td>1</td>\n",
       "    </tr>\n",
       "    <tr>\n",
       "      <th>8</th>\n",
       "      <td>23.100</td>\n",
       "      <td>27.2000</td>\n",
       "      <td>419.0</td>\n",
       "      <td>699.000000</td>\n",
       "      <td>0.004757</td>\n",
       "      <td>1</td>\n",
       "    </tr>\n",
       "    <tr>\n",
       "      <th>9</th>\n",
       "      <td>23.100</td>\n",
       "      <td>27.2000</td>\n",
       "      <td>419.0</td>\n",
       "      <td>689.333333</td>\n",
       "      <td>0.004757</td>\n",
       "      <td>1</td>\n",
       "    </tr>\n",
       "    <tr>\n",
       "      <th>10</th>\n",
       "      <td>23.075</td>\n",
       "      <td>27.1750</td>\n",
       "      <td>419.0</td>\n",
       "      <td>688.000000</td>\n",
       "      <td>0.004745</td>\n",
       "      <td>1</td>\n",
       "    </tr>\n",
       "  </tbody>\n",
       "</table>\n",
       "</div>"
      ],
      "text/plain": [
       "         B        C      D           E         F  Occ\n",
       "1   23.180  27.2720  426.0  721.250000  0.004793    1\n",
       "2   23.150  27.2675  429.5  714.000000  0.004783    1\n",
       "3   23.150  27.2450  426.0  713.500000  0.004779    1\n",
       "4   23.150  27.2000  426.0  708.250000  0.004772    1\n",
       "5   23.100  27.2000  426.0  704.500000  0.004757    1\n",
       "6   23.100  27.2000  419.0  701.000000  0.004757    1\n",
       "7   23.100  27.2000  419.0  701.666667  0.004757    1\n",
       "8   23.100  27.2000  419.0  699.000000  0.004757    1\n",
       "9   23.100  27.2000  419.0  689.333333  0.004757    1\n",
       "10  23.075  27.1750  419.0  688.000000  0.004745    1"
      ]
     },
     "execution_count": 1,
     "metadata": {},
     "output_type": "execute_result"
    }
   ],
   "source": [
    "import numpy as np\n",
    "import pandas as pd\n",
    "# reading data\n",
    "df = pd.read_table('../dataset/occupancy/datatraining.txt', skiprows=1, names=('A', 'B', 'C', 'D', 'E', 'F', 'Occ'), sep=',')\n",
    "test1 = pd.read_table('../dataset/occupancy/datatest.txt', skiprows=1, names=('A', 'B', 'C', 'D', 'E', 'F', 'Occ'), sep=',')\n",
    "columns = ['B', 'C', 'D', 'E', 'F', 'Occ']\n",
    "\n",
    "df = df[columns]\n",
    "df.head(10)"
   ]
  },
  {
   "cell_type": "markdown",
   "metadata": {},
   "source": [
    "### Dividing data-set into different classes"
   ]
  },
  {
   "cell_type": "code",
   "execution_count": 2,
   "metadata": {},
   "outputs": [
    {
     "name": "stdout",
     "output_type": "stream",
     "text": [
      "Occupied Parameters\n",
      "         B      C    D      E         F\n",
      "17  23.000  27.20  0.0  681.5  0.004728\n",
      "18  22.945  27.29  0.0  685.0  0.004728\n",
      "19  22.945  27.39  0.0  685.0  0.004745\n",
      "20  22.890  27.39  0.0  689.0  0.004730\n",
      "21  22.890  27.39  0.0  689.5  0.004730\n",
      "Unoccupied Parameters\n",
      "       B        C      D       E         F\n",
      "1  23.18  27.2720  426.0  721.25  0.004793\n",
      "2  23.15  27.2675  429.5  714.00  0.004783\n",
      "3  23.15  27.2450  426.0  713.50  0.004779\n",
      "4  23.15  27.2000  426.0  708.25  0.004772\n",
      "5  23.10  27.2000  426.0  704.50  0.004757\n"
     ]
    }
   ],
   "source": [
    "# classifying datas\n",
    "print(\"Occupied Parameters\")\n",
    "x0 = df[df['Occ'] == 0][['B', 'C', 'D', 'E', 'F']]\n",
    "print(x0.head())\n",
    "\n",
    "print(\"Unoccupied Parameters\")\n",
    "x1 = df[df['Occ'] == 1][['B', 'C', 'D', 'E', 'F']]\n",
    "print(x1.head())"
   ]
  },
  {
   "cell_type": "markdown",
   "metadata": {},
   "source": [
    "### Determinig Mean of different classes and the over all Mean"
   ]
  },
  {
   "cell_type": "code",
   "execution_count": 3,
   "metadata": {},
   "outputs": [],
   "source": [
    "mean_all = df[['B', 'C', 'D', 'E', 'F']].mean()\n",
    "mean_x0 = x0.mean()\n",
    "mean_x1 = x1.mean()"
   ]
  },
  {
   "cell_type": "markdown",
   "metadata": {},
   "source": [
    "### Mean corrected data and Covariance matrix"
   ]
  },
  {
   "cell_type": "code",
   "execution_count": 4,
   "metadata": {},
   "outputs": [
    {
     "data": {
      "text/html": [
       "<div>\n",
       "<style scoped>\n",
       "    .dataframe tbody tr th:only-of-type {\n",
       "        vertical-align: middle;\n",
       "    }\n",
       "\n",
       "    .dataframe tbody tr th {\n",
       "        vertical-align: top;\n",
       "    }\n",
       "\n",
       "    .dataframe thead th {\n",
       "        text-align: right;\n",
       "    }\n",
       "</style>\n",
       "<table border=\"1\" class=\"dataframe\">\n",
       "  <thead>\n",
       "    <tr style=\"text-align: right;\">\n",
       "      <th></th>\n",
       "      <th>0</th>\n",
       "      <th>1</th>\n",
       "      <th>2</th>\n",
       "      <th>3</th>\n",
       "      <th>4</th>\n",
       "    </tr>\n",
       "  </thead>\n",
       "  <tbody>\n",
       "    <tr>\n",
       "      <th>0</th>\n",
       "      <td>3.667237e+10</td>\n",
       "      <td>2.443117e+10</td>\n",
       "      <td>-2.699666e+07</td>\n",
       "      <td>3.245072e+07</td>\n",
       "      <td>-1.650227e+14</td>\n",
       "    </tr>\n",
       "    <tr>\n",
       "      <th>1</th>\n",
       "      <td>2.443117e+10</td>\n",
       "      <td>1.627607e+10</td>\n",
       "      <td>-1.798520e+07</td>\n",
       "      <td>2.161870e+07</td>\n",
       "      <td>-1.099383e+14</td>\n",
       "    </tr>\n",
       "    <tr>\n",
       "      <th>2</th>\n",
       "      <td>-2.699666e+07</td>\n",
       "      <td>-1.798520e+07</td>\n",
       "      <td>1.987381e+04</td>\n",
       "      <td>-2.388885e+04</td>\n",
       "      <td>1.214828e+11</td>\n",
       "    </tr>\n",
       "    <tr>\n",
       "      <th>3</th>\n",
       "      <td>3.245072e+07</td>\n",
       "      <td>2.161870e+07</td>\n",
       "      <td>-2.388885e+04</td>\n",
       "      <td>2.871505e+04</td>\n",
       "      <td>-1.460256e+11</td>\n",
       "    </tr>\n",
       "    <tr>\n",
       "      <th>4</th>\n",
       "      <td>-1.650227e+14</td>\n",
       "      <td>-1.099383e+14</td>\n",
       "      <td>1.214828e+11</td>\n",
       "      <td>-1.460256e+11</td>\n",
       "      <td>7.425892e+17</td>\n",
       "    </tr>\n",
       "  </tbody>\n",
       "</table>\n",
       "</div>"
      ],
      "text/plain": [
       "              0             1             2             3             4\n",
       "0  3.667237e+10  2.443117e+10 -2.699666e+07  3.245072e+07 -1.650227e+14\n",
       "1  2.443117e+10  1.627607e+10 -1.798520e+07  2.161870e+07 -1.099383e+14\n",
       "2 -2.699666e+07 -1.798520e+07  1.987381e+04 -2.388885e+04  1.214828e+11\n",
       "3  3.245072e+07  2.161870e+07 -2.388885e+04  2.871505e+04 -1.460256e+11\n",
       "4 -1.650227e+14 -1.099383e+14  1.214828e+11 -1.460256e+11  7.425892e+17"
      ]
     },
     "execution_count": 4,
     "metadata": {},
     "output_type": "execute_result"
    }
   ],
   "source": [
    "# mean corrected datas\n",
    "corrected_x0 = x0-mean_all\n",
    "corrected_x1 = x1-mean_all\n",
    "\n",
    "# correlation matrix\n",
    "cov0 = corrected_x0.cov()\n",
    "cov1 = corrected_x1.cov()\n",
    "\n",
    "# group covarience matrix\n",
    "Cov = ((len(x0)/len(df))*cov0 + (len(x1)/len(df))*cov1)\n",
    "Cov.head()\n",
    "Cov_inv = pd.DataFrame(np.linalg.pinv(Cov))\n",
    "Cov_inv\n",
    "Cov_inv = Cov_inv.dot(Cov_inv)\n",
    "Cov_inv.T"
   ]
  },
  {
   "cell_type": "markdown",
   "metadata": {},
   "source": [
    "### Test data-set"
   ]
  },
  {
   "cell_type": "code",
   "execution_count": 5,
   "metadata": {},
   "outputs": [
    {
     "data": {
      "text/html": [
       "<div>\n",
       "<style scoped>\n",
       "    .dataframe tbody tr th:only-of-type {\n",
       "        vertical-align: middle;\n",
       "    }\n",
       "\n",
       "    .dataframe tbody tr th {\n",
       "        vertical-align: top;\n",
       "    }\n",
       "\n",
       "    .dataframe thead th {\n",
       "        text-align: right;\n",
       "    }\n",
       "</style>\n",
       "<table border=\"1\" class=\"dataframe\">\n",
       "  <thead>\n",
       "    <tr style=\"text-align: right;\">\n",
       "      <th></th>\n",
       "      <th>B</th>\n",
       "      <th>C</th>\n",
       "      <th>D</th>\n",
       "      <th>E</th>\n",
       "      <th>F</th>\n",
       "    </tr>\n",
       "  </thead>\n",
       "  <tbody>\n",
       "    <tr>\n",
       "      <th>140</th>\n",
       "      <td>23.7000</td>\n",
       "      <td>26.272</td>\n",
       "      <td>585.200000</td>\n",
       "      <td>749.200000</td>\n",
       "      <td>0.004764</td>\n",
       "    </tr>\n",
       "    <tr>\n",
       "      <th>141</th>\n",
       "      <td>23.7180</td>\n",
       "      <td>26.290</td>\n",
       "      <td>578.400000</td>\n",
       "      <td>760.400000</td>\n",
       "      <td>0.004773</td>\n",
       "    </tr>\n",
       "    <tr>\n",
       "      <th>142</th>\n",
       "      <td>23.7300</td>\n",
       "      <td>26.230</td>\n",
       "      <td>572.666667</td>\n",
       "      <td>769.666667</td>\n",
       "      <td>0.004765</td>\n",
       "    </tr>\n",
       "    <tr>\n",
       "      <th>143</th>\n",
       "      <td>23.7225</td>\n",
       "      <td>26.125</td>\n",
       "      <td>493.750000</td>\n",
       "      <td>774.750000</td>\n",
       "      <td>0.004744</td>\n",
       "    </tr>\n",
       "    <tr>\n",
       "      <th>144</th>\n",
       "      <td>23.7540</td>\n",
       "      <td>26.200</td>\n",
       "      <td>488.600000</td>\n",
       "      <td>779.000000</td>\n",
       "      <td>0.004767</td>\n",
       "    </tr>\n",
       "  </tbody>\n",
       "</table>\n",
       "</div>"
      ],
      "text/plain": [
       "           B       C           D           E         F\n",
       "140  23.7000  26.272  585.200000  749.200000  0.004764\n",
       "141  23.7180  26.290  578.400000  760.400000  0.004773\n",
       "142  23.7300  26.230  572.666667  769.666667  0.004765\n",
       "143  23.7225  26.125  493.750000  774.750000  0.004744\n",
       "144  23.7540  26.200  488.600000  779.000000  0.004767"
      ]
     },
     "execution_count": 5,
     "metadata": {},
     "output_type": "execute_result"
    }
   ],
   "source": [
    "# Preparing test data\n",
    "test1_X = test1[['B', 'C', 'D', 'E', 'F']]\n",
    "test1_Y = test1['Occ']\n",
    "test1_X.head()"
   ]
  },
  {
   "cell_type": "markdown",
   "metadata": {},
   "source": [
    "### Discriminant function\n",
    "<img src=\"assets/discriminant_function.png\">"
   ]
  },
  {
   "cell_type": "code",
   "execution_count": 6,
   "metadata": {},
   "outputs": [],
   "source": [
    "f0 = np.array(mean_x0) @ np.array(Cov_inv.T) @ np.array(test1_X.T) - (0.5*(np.array(mean_x0) @ np.array(Cov_inv.T) @ np.array(mean_x0.T) )) + np.log((len(x0)/len(df)))\n",
    "# print(Cov_inv.shape, test1_X.T.shape)\n",
    "f1 = np.array(mean_x1) @ np.array(Cov_inv.T) @ np.array(test1_X.T) - (0.5*(np.array(mean_x1) @ np.array(Cov_inv.T) @ np.array(mean_x1.T) )) + np.log((len(x1)/len(df)))"
   ]
  },
  {
   "cell_type": "code",
   "execution_count": 7,
   "metadata": {},
   "outputs": [
    {
     "data": {
      "text/plain": [
       "array([7.31824417e+12, 7.32334345e+12, 7.33728914e+12, ...,\n",
       "       7.36937735e+12, 7.36328373e+12, 7.36249089e+12])"
      ]
     },
     "execution_count": 7,
     "metadata": {},
     "output_type": "execute_result"
    }
   ],
   "source": [
    "f0"
   ]
  },
  {
   "cell_type": "code",
   "execution_count": 8,
   "metadata": {},
   "outputs": [
    {
     "data": {
      "text/plain": [
       "array([7.32157483e+12, 7.32664636e+12, 7.34051616e+12, ...,\n",
       "       7.37242975e+12, 7.36636929e+12, 7.36558077e+12])"
      ]
     },
     "execution_count": 8,
     "metadata": {},
     "output_type": "execute_result"
    }
   ],
   "source": [
    "f1"
   ]
  },
  {
   "cell_type": "markdown",
   "metadata": {},
   "source": [
    "### Assign object k with class i such that f(i) is maximun for that object"
   ]
  },
  {
   "cell_type": "code",
   "execution_count": 9,
   "metadata": {},
   "outputs": [
    {
     "data": {
      "text/plain": [
       "array([1, 1, 1, ..., 1, 1, 1])"
      ]
     },
     "execution_count": 9,
     "metadata": {},
     "output_type": "execute_result"
    }
   ],
   "source": [
    "cl = f0>f1\n",
    "y_out = np.array([0 if f0[i]>f1[i] else 1 for i in range(len(f0))])\n",
    "y_out"
   ]
  },
  {
   "cell_type": "markdown",
   "metadata": {},
   "source": [
    "### Calculating Accuracy"
   ]
  },
  {
   "cell_type": "code",
   "execution_count": 10,
   "metadata": {},
   "outputs": [
    {
     "name": "stdout",
     "output_type": "stream",
     "text": [
      "972 1393 300 0\n",
      "accuracy : 0.8874296435272045\n",
      "precision : 0.7641509433962265\n",
      "specificity : 1.0\n",
      "sensitivity : 0.8227997637330183\n"
     ]
    }
   ],
   "source": [
    "gr_val = np.array(test1_Y)\n",
    "\n",
    "tp_bool = np.logical_and((y_out==1),(gr_val==1))\n",
    "tn_bool = np.logical_and((y_out==0),(gr_val==0))\n",
    "fp_bool = np.logical_and((y_out==1),(gr_val==0))\n",
    "fn_bool = np.logical_and((y_out==0),(gr_val==1))\n",
    "tp = len(y_out[tp_bool])\n",
    "tn = len(y_out[tn_bool])\n",
    "fp = len(y_out[fp_bool])\n",
    "fn = len(y_out[fn_bool])\n",
    "print(tp,tn,fp,fn)\n",
    "\n",
    "accuracy = (tp+tn)/(tp+tn+fp+fn)\n",
    "print(\"accuracy : \"+str(accuracy))\n",
    "\n",
    "# precision = tp/(total yes predictions)\n",
    "precision = tp/(len(y_out[y_out==1]))\n",
    "print(\"precision : \"+str(precision))\n",
    "\n",
    "specificity = tp/(tp+fn)\n",
    "print(\"specificity : \"+str(specificity))\n",
    "\n",
    "sensitivity = tn/(tn+fp)\n",
    "print(\"sensitivity : \"+str(sensitivity))"
   ]
  }
 ],
 "metadata": {
  "kernelspec": {
   "display_name": "Python 3",
   "language": "python",
   "name": "python3"
  },
  "language_info": {
   "codemirror_mode": {
    "name": "ipython",
    "version": 3
   },
   "file_extension": ".py",
   "mimetype": "text/x-python",
   "name": "python",
   "nbconvert_exporter": "python",
   "pygments_lexer": "ipython3",
   "version": "3.6.7"
  }
 },
 "nbformat": 4,
 "nbformat_minor": 2
}
